{
 "cells": [
  {
   "cell_type": "code",
   "execution_count": null,
   "id": "16d341c2",
   "metadata": {},
   "outputs": [],
   "source": []
  },
  {
   "cell_type": "code",
   "execution_count": 26,
   "id": "9ad4c757",
   "metadata": {},
   "outputs": [],
   "source": [
    "\n",
    "from dataset_slide_turn_change_bl import *\n",
    "import torch\n",
    "import torch.nn as nn\n",
    "\n",
    "import numpy as np\n",
    "\n",
    "from scipy.stats import uniform, randint\n",
    "\n",
    "from sklearn.metrics import auc, accuracy_score, confusion_matrix, mean_squared_error\n",
    "torch.manual_seed(0)\n",
    "\n",
    "person_order = {'F1_Interaction_1': {'P2': 1, 'P1': 1, 'P3': 2},\n",
    " 'F1_Interaction_2': {'P2': 1, 'P1': 1, 'P3': 2},\n",
    " 'F2_Interaction_1': {'P4': 1, 'P5': 3},\n",
    " 'F2_Interaction_2': {'P4': 1},\n",
    " 'F3_Interaction_1': {'P8': 3, 'P6': 1, 'P7': 1},\n",
    " 'F3_Interaction_2': {'P6': 1, 'P7': 1},\n",
    " 'F4_Interaction_1': {'P14': 2,\n",
    "  'P12': 1,\n",
    "  'P11': 1,\n",
    "  'P10': 1,\n",
    "  'P9': 1,\n",
    "  'P13': 3},\n",
    " 'F4_Interaction_2': {'P12': 1,\n",
    "  'P11': 1,\n",
    "  'P10': 1,\n",
    "  'P9': 1,\n",
    "  'P13': 3},\n",
    " 'F5_Interaction_1': {'P16': 2, 'P15': 1},\n",
    " 'F5_Interaction_2': {'P16': 2, 'P15': 1},\n",
    " 'F6_Interaction_1': {'P19': 3, 'P18': 1, 'P17': 1},\n",
    " 'F6_Interaction_2': {'P19': 3, 'P18': 1, 'P17': 1},\n",
    " 'F7_Interaction_1': {'P22': 3,\n",
    "  'P20': 1,\n",
    "  'P21': 1,\n",
    "  'P23': 2},\n",
    " 'F8_Interaction_1': {'P24': 1, 'P25': 3},\n",
    " 'F8_Interaction_2': {'P24': 1, 'P25': 3},\n",
    " 'F8_Interaction_3': {'P24': 1, 'P25': 3},\n",
    " 'F10_Interaction_1': {'P27': 1, 'P28': 1},\n",
    " 'F11_Interaction_1': {'P29': 1, 'P30': 2},\n",
    " 'F11_Interaction_2': {'P29': 1, 'P30': 2},\n",
    " 'F13_Interaction_1': {'P32': 1, 'P33': 2},\n",
    " 'F17_Interaction_1': {'P37': 1, 'P38': 2},\n",
    " 'F17_Interaction_2': {'P37': 1, 'P38': 2}}\n",
    "\n",
    "\n",
    "group_nums = {1: ['F2_Interaction_2'],\n",
    " 2: ['F2_Interaction_1',\n",
    "  'F3_Interaction_2',\n",
    "  'F5_Interaction_1',\n",
    "  'F5_Interaction_2',\n",
    "  'F8_Interaction_1',\n",
    "  'F8_Interaction_2',\n",
    "  'F8_Interaction_3',\n",
    "  'F10_Interaction_1',\n",
    "  'F11_Interaction_1',\n",
    "  'F11_Interaction_2',\n",
    "  'F13_Interaction_1',\n",
    "  'F17_Interaction_1',\n",
    "  'F17_Interaction_2'],\n",
    " 3: ['F1_Interaction_1',\n",
    "  'F1_Interaction_2',\n",
    "  'F3_Interaction_1',\n",
    "  'F6_Interaction_1',\n",
    "  'F6_Interaction_2'],\n",
    " 4: ['F7_Interaction_1'],\n",
    " 5: ['F4_Interaction_2'],\n",
    " 6: ['F4_Interaction_1']}\n",
    "\n",
    "group_all_dataset = []\n",
    "group_ids = group_nums[3]\n",
    "for group_id in group_ids:\n",
    "    group_specific_dataset = SpeedDatingDS(group_id = group_id, social_rel = person_order[group_id])\n",
    "    group_all_dataset.append(group_specific_dataset)\n",
    "\n",
    "SD = torch.utils.data.ConcatDataset(group_all_dataset)\n",
    "\n",
    "########################################################################\n",
    "#Dataloader\n",
    "########################################################################\n",
    "train_len = len(SD) - len(SD)//5\n",
    "test_len = len(SD)//5\n",
    "\n",
    "train, test = torch.utils.data.random_split(SD, (train_len, test_len), generator=torch.Generator().manual_seed(0))\n",
    "\n",
    "batch_size = 32\n",
    "trainloader = DataLoader(train, batch_size = train_len, shuffle = False, num_workers = 8)\n",
    "testloader = DataLoader(test, batch_size = test_len, shuffle = False, num_workers = 8)\n",
    "\n",
    "\n",
    "device = torch.device(\"cuda\" if torch.cuda.is_available() else \"cpu\")\n",
    "\n",
    "for idx, batch in enumerate(trainloader):\n",
    "\n",
    "    x_train, vb_output = batch['context'], batch['vb_output']\n",
    "\n",
    "    labels = vb_output.sum(2).to(device).flatten(start_dim =1)\n",
    "    index_labels = torch.zeros(x_train.shape[0]).long().to(device)\n",
    "    index_labels[labels.nonzero()[:,0]] = labels.nonzero()[:,1] + 1 \n",
    "    y_train = index_labels\n",
    "\n",
    "for idx, batch in enumerate(testloader):\n",
    "    x_test, vb_output = batch['context'], batch['vb_output']\n",
    "\n",
    "    labels = vb_output.sum(2).to(device).flatten(start_dim =1)\n",
    "    index_labels = torch.zeros(x_test.shape[0]).long().to(device)\n",
    "    index_labels[labels.nonzero()[:,0]] = labels.nonzero()[:,1] + 1 \n",
    "    y_test = index_labels\n",
    "\n",
    "\n"
   ]
  },
  {
   "cell_type": "code",
   "execution_count": 27,
   "id": "9e633c9d",
   "metadata": {},
   "outputs": [],
   "source": [
    "#gaze, prosody, head\n",
    "\n",
    "\n",
    "desired_ind = [0,6] + [*range(29,38)]\n",
    "x_abl = x_test[...,desired_ind].cpu().numpy()\n",
    "y_abl = y_test.cpu().numpy()"
   ]
  },
  {
   "cell_type": "code",
   "execution_count": 28,
   "id": "22c1b167",
   "metadata": {},
   "outputs": [
    {
     "name": "stdout",
     "output_type": "stream",
     "text": [
      "0\n",
      "1\n",
      "2\n",
      "3\n",
      "4\n",
      "5\n",
      "6\n",
      "7\n",
      "8\n",
      "9\n",
      "10\n",
      "11\n",
      "12\n",
      "13\n",
      "14\n",
      "15\n",
      "16\n",
      "17\n",
      "18\n",
      "19\n",
      "20\n",
      "21\n",
      "22\n",
      "23\n",
      "24\n",
      "25\n",
      "26\n",
      "27\n",
      "28\n",
      "29\n",
      "30\n",
      "31\n",
      "32\n",
      "33\n",
      "34\n"
     ]
    }
   ],
   "source": [
    "\n",
    "\n",
    "y_pred = np.zeros(x_abl.shape[0])\n",
    "for i, x_label in enumerate(x_test.sum(2).cpu().numpy()):\n",
    "    print(i)\n",
    "    \n",
    "    if len(x_label.nonzero()[0]) > 0:\n",
    "        \n",
    "#         if len(x_label.nonzero()[0]) > 1:\n",
    "#             pdb.set_trace()\n",
    "#             print('here')\n",
    "#             y_pred[i] = np.random.choice(x_label.nonzero()[0]) + 1 \n",
    "#         else:\n",
    "        \n",
    "#         if y_test[i] == 2:\n",
    "#             pdb.set_trace()\n",
    "            \n",
    "        y_pred[i] = int(x_label.nonzero()[0]) + 1\n",
    "        \n",
    "            \n",
    "\n",
    "            "
   ]
  },
  {
   "cell_type": "code",
   "execution_count": 30,
   "id": "01799d3e",
   "metadata": {},
   "outputs": [
    {
     "name": "stdout",
     "output_type": "stream",
     "text": [
      "f1: 0.5686274509803921\n",
      "weighted_f1: 0.6255835667600373\n",
      "acc: 0.6\n",
      "[[ 4  5  4]\n",
      " [ 1 12  1]\n",
      " [ 0  3  5]]\n"
     ]
    }
   ],
   "source": [
    "\n",
    "print(\"f1: {}\".format(sklearn.metrics.f1_score(y_pred, y_test.detach().cpu().numpy(), average='macro')))\n",
    "print(\"weighted_f1: {}\".format(sklearn.metrics.f1_score(y_pred, y_test.detach().cpu().numpy(), average='weighted')))\n",
    "print(\"acc: {}\".format((y_pred == y_test.detach().cpu().numpy()).mean()))\n",
    "print(confusion_matrix(y_test.detach().cpu().numpy(), y_pred))"
   ]
  },
  {
   "cell_type": "code",
   "execution_count": 31,
   "id": "e8c66f10",
   "metadata": {},
   "outputs": [
    {
     "ename": "AttributeError",
     "evalue": "'numpy.ndarray' object has no attribute 'mode'",
     "output_type": "error",
     "traceback": [
      "\u001b[0;31m---------------------------------------------------------------------------\u001b[0m",
      "\u001b[0;31mAttributeError\u001b[0m                            Traceback (most recent call last)",
      "\u001b[0;32m/tmp/ipykernel_9778/2485940683.py\u001b[0m in \u001b[0;36m<module>\u001b[0;34m\u001b[0m\n\u001b[0;32m----> 1\u001b[0;31m \u001b[0my_test\u001b[0m\u001b[0;34m.\u001b[0m\u001b[0mdetach\u001b[0m\u001b[0;34m(\u001b[0m\u001b[0;34m)\u001b[0m\u001b[0;34m.\u001b[0m\u001b[0mcpu\u001b[0m\u001b[0;34m(\u001b[0m\u001b[0;34m)\u001b[0m\u001b[0;34m.\u001b[0m\u001b[0mnumpy\u001b[0m\u001b[0;34m(\u001b[0m\u001b[0;34m)\u001b[0m\u001b[0;34m.\u001b[0m\u001b[0mmode\u001b[0m\u001b[0;34m(\u001b[0m\u001b[0;34m)\u001b[0m\u001b[0;34m\u001b[0m\u001b[0;34m\u001b[0m\u001b[0m\n\u001b[0m",
      "\u001b[0;31mAttributeError\u001b[0m: 'numpy.ndarray' object has no attribute 'mode'"
     ]
    }
   ],
   "source": []
  },
  {
   "cell_type": "code",
   "execution_count": 33,
   "id": "ff61a9cc",
   "metadata": {},
   "outputs": [
    {
     "name": "stdout",
     "output_type": "stream",
     "text": [
      "2\n"
     ]
    }
   ],
   "source": [
    "values, counts = np.unique(y_test.detach().cpu().numpy(), return_counts=True)\n",
    "\n",
    "ind = np.argmax(counts)\n",
    "print(values[ind])  # prints the most frequent element"
   ]
  },
  {
   "cell_type": "code",
   "execution_count": 37,
   "id": "5f6e6aca",
   "metadata": {},
   "outputs": [],
   "source": [
    "y_pred = np.zeros_like(y_test.detach().cpu().numpy()) + 2"
   ]
  },
  {
   "cell_type": "code",
   "execution_count": null,
   "id": "09ef89d6",
   "metadata": {},
   "outputs": [],
   "source": []
  },
  {
   "cell_type": "code",
   "execution_count": 38,
   "id": "a31254a1",
   "metadata": {},
   "outputs": [
    {
     "name": "stdout",
     "output_type": "stream",
     "text": [
      "f1: 0.1904761904761905\n",
      "weighted_f1: 0.5714285714285715\n",
      "acc: 0.4\n",
      "[[ 0 13  0]\n",
      " [ 0 14  0]\n",
      " [ 0  8  0]]\n"
     ]
    }
   ],
   "source": [
    "\n",
    "print(\"f1: {}\".format(sklearn.metrics.f1_score(y_pred, y_test.detach().cpu().numpy(), average='macro')))\n",
    "print(\"weighted_f1: {}\".format(sklearn.metrics.f1_score(y_pred, y_test.detach().cpu().numpy(), average='weighted')))\n",
    "print(\"acc: {}\".format((y_pred == y_test.detach().cpu().numpy()).mean()))\n",
    "print(confusion_matrix(y_test.detach().cpu().numpy(), y_pred))"
   ]
  },
  {
   "cell_type": "code",
   "execution_count": 24,
   "id": "f76aff40",
   "metadata": {},
   "outputs": [],
   "source": [
    "\n",
    "\n",
    "y_pred = np.zeros(x_test.shape[0])\n",
    "for i, x_label in enumerate(x_test.sum(2)):\n",
    "    \n",
    "    if len(x_label.nonzero()[0]) > 0:\n",
    "        \n",
    "        if len(x_label.nonzero()[0]) > 1:\n",
    "            pdb.set_trace()\n",
    "            print('here')\n",
    "            y_pred[i] = np.random.choice(x_label.nonzero()[0]) + 1 \n",
    "        else:\n",
    "            x_label.nonzero()[0]\n",
    "            y_pred[i] = int(x_label.nonzero()[0]) + 1"
   ]
  },
  {
   "cell_type": "code",
   "execution_count": 25,
   "id": "e57fa534",
   "metadata": {},
   "outputs": [
    {
     "data": {
      "text/plain": [
       "array([2., 3., 2., 2., 2., 1., 3., 1., 3., 2., 2., 3., 2., 3., 3., 3., 1.,\n",
       "       2., 2., 2., 2., 2., 3., 2., 2., 2., 2., 2., 1., 2., 3., 2., 3., 1.,\n",
       "       2.])"
      ]
     },
     "execution_count": 25,
     "metadata": {},
     "output_type": "execute_result"
    }
   ],
   "source": [
    "y_pred"
   ]
  },
  {
   "cell_type": "code",
   "execution_count": 14,
   "id": "14ead289",
   "metadata": {},
   "outputs": [
    {
     "name": "stdout",
     "output_type": "stream",
     "text": [
      "f1: 0.5686274509803921\n",
      "acc: 0.6\n",
      "[[ 4  5  4]\n",
      " [ 1 12  1]\n",
      " [ 0  3  5]]\n"
     ]
    }
   ],
   "source": [
    "import sklearn\n",
    "\n",
    "print(\"f1: {}\".format(sklearn.metrics.f1_score(y_pred, y_test.detach().cpu().numpy(), average='macro')))\n",
    "print(\"acc: {}\".format((y_pred == y_test.detach().cpu().numpy()).mean()))\n",
    "print(confusion_matrix(y_test.detach().cpu().numpy(), y_pred))"
   ]
  },
  {
   "cell_type": "code",
   "execution_count": null,
   "id": "106e7b9e",
   "metadata": {},
   "outputs": [],
   "source": [
    "y_test"
   ]
  },
  {
   "cell_type": "code",
   "execution_count": null,
   "id": "a26ad54d",
   "metadata": {},
   "outputs": [],
   "source": []
  }
 ],
 "metadata": {
  "kernelspec": {
   "display_name": "Python 3 (ipykernel)",
   "language": "python",
   "name": "python3"
  },
  "language_info": {
   "codemirror_mode": {
    "name": "ipython",
    "version": 3
   },
   "file_extension": ".py",
   "mimetype": "text/x-python",
   "name": "python",
   "nbconvert_exporter": "python",
   "pygments_lexer": "ipython3",
   "version": "3.8.10"
  }
 },
 "nbformat": 4,
 "nbformat_minor": 5
}
